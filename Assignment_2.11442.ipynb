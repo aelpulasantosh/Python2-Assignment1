{
 "cells": [
  {
   "cell_type": "markdown",
   "metadata": {},
   "source": [
    "   # Write  a program which accepts a sequence of comma-separated numbers from console and generate a list\n",
    "    "
   ]
  },
  {
   "cell_type": "code",
   "execution_count": 13,
   "metadata": {},
   "outputs": [
    {
     "name": "stdout",
     "output_type": "stream",
     "text": [
      "comma separated numbers5,6,7,8\n",
      "List :  ['5', '6', '7', '8']\n"
     ]
    },
    {
     "data": {
      "text/plain": [
       "list"
      ]
     },
     "execution_count": 13,
     "metadata": {},
     "output_type": "execute_result"
    }
   ],
   "source": [
    "a=input(\"comma separated numbers\").split(\",\")\n",
    "print(\"List : \" ,a)\n",
    "type(a)"
   ]
  },
  {
   "cell_type": "markdown",
   "metadata": {},
   "source": [
    "# Create the below pattern using nested for loop in Python:\n",
    "   *\n",
    "   **\n",
    "   ***\n",
    "   ****\n",
    "   *****\n",
    "   ****\n",
    "   ***\n",
    "   **\n",
    "   *"
   ]
  },
  {
   "cell_type": "code",
   "execution_count": 2,
   "metadata": {},
   "outputs": [
    {
     "name": "stdout",
     "output_type": "stream",
     "text": [
      "\n",
      "*\n",
      "**\n",
      "***\n",
      "****\n",
      "*****\n",
      "****\n",
      "***\n",
      "**\n",
      "*\n"
     ]
    }
   ],
   "source": [
    " for i in range(6):\n",
    "    print('*'*i)\n",
    "    if i>=5:\n",
    "        for j in range(4,0,-1):\n",
    "            print('*'*j)"
   ]
  },
  {
   "cell_type": "markdown",
   "metadata": {},
   "source": [
    "# Write a Python program to reverse a word after accepting the input from the user"
   ]
  },
  {
   "cell_type": "code",
   "execution_count": 3,
   "metadata": {},
   "outputs": [
    {
     "name": "stdout",
     "output_type": "stream",
     "text": [
      "enter a name \tsAntOsh Kumar\n",
      "reverse of the name is ramuK hsOtnAs\n"
     ]
    }
   ],
   "source": [
    "A=input('enter a name \\t')\n",
    "print(\"reverse of the name is\",A[::-1])"
   ]
  },
  {
   "cell_type": "markdown",
   "metadata": {},
   "source": [
    "# Write a Python program to print the given string in the format specified in the sample output\n",
    "\n",
    "# \"WE, THE PEOPLE OF INDIA,having solemnly resolved to constitute India into a SOVEREIGN,SOCIALIST,SECULAR,DEMOCRATIC REPUBLIC and to secure to all it's citizens\""
   ]
  },
  {
   "cell_type": "code",
   "execution_count": 12,
   "metadata": {},
   "outputs": [
    {
     "name": "stdout",
     "output_type": "stream",
     "text": [
      "WE, THE PEOPLE OF INDIA,\n",
      "      having solemnly resolved to constitute India into a SOVEREIGN,!\n",
      "\t\tSOCIALIST,SECULAR,DEMOCRATIC REPUBLIC \n",
      "\t\t and to secure to all it's citizens"
     ]
    }
   ],
   "source": [
    "print(\"WE, THE PEOPLE OF INDIA,\\n\\\n",
    "      having solemnly resolved to constitute India into a SOVEREIGN,\",end='!\\n\\t'+\"SOCIALIST,SECULAR,\\\n",
    "DEMOCRATIC REPUBLIC \\n\\t\\t and to secure to all it's citizens\")\n"
   ]
  },
  {
   "cell_type": "code",
   "execution_count": null,
   "metadata": {},
   "outputs": [],
   "source": []
  }
 ],
 "metadata": {
  "kernelspec": {
   "display_name": "Python 3",
   "language": "python",
   "name": "python3"
  },
  "language_info": {
   "codemirror_mode": {
    "name": "ipython",
    "version": 3
   },
   "file_extension": ".py",
   "mimetype": "text/x-python",
   "name": "python",
   "nbconvert_exporter": "python",
   "pygments_lexer": "ipython3",
   "version": "3.7.0"
  }
 },
 "nbformat": 4,
 "nbformat_minor": 2
}
